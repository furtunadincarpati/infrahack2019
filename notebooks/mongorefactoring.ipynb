{
 "cells": [
  {
   "cell_type": "code",
   "execution_count": 1,
   "metadata": {},
   "outputs": [],
   "source": [
    "import pymongo\n",
    "from lib.db import MongoClient\n",
    "\n",
    "c = MongoClient(\"mongodb://localhost:27017\")"
   ]
  },
  {
   "cell_type": "code",
   "execution_count": 17,
   "metadata": {},
   "outputs": [],
   "source": [
    "stations = {}\n",
    "\n",
    "for station in c.db[\"stations.old\"].find({}):\n",
    "    emu = station.get(\"_id\")\n",
    "    station_name = station.get(\"station_name\")\n",
    "    lat = station.get(\"lat\")\n",
    "    long = station.get(\"long\")\n",
    "    stations.setdefault(station_name, {})\n",
    "    stations[station_name][\"name\"]=station_name\n",
    "    stations[station_name][\"lat\"] = lat\n",
    "    stations[station_name][\"lng\"] = long\n",
    "    \n",
    "    stations[station_name].setdefault('lifts', [])\n",
    "    stations[station_name][\"lifts\"].append(emu)"
   ]
  },
  {
   "cell_type": "code",
   "execution_count": 18,
   "metadata": {},
   "outputs": [
    {
     "data": {
      "text/plain": [
       "<pymongo.results.InsertManyResult at 0x108464248>"
      ]
     },
     "execution_count": 18,
     "metadata": {},
     "output_type": "execute_result"
    }
   ],
   "source": [
    "c.stations.insert_many([x for x in stations.values()])"
   ]
  },
  {
   "cell_type": "code",
   "execution_count": null,
   "metadata": {},
   "outputs": [],
   "source": []
  },
  {
   "cell_type": "code",
   "execution_count": null,
   "metadata": {},
   "outputs": [],
   "source": []
  },
  {
   "cell_type": "code",
   "execution_count": null,
   "metadata": {},
   "outputs": [],
   "source": []
  },
  {
   "cell_type": "code",
   "execution_count": null,
   "metadata": {},
   "outputs": [],
   "source": []
  }
 ],
 "metadata": {
  "kernelspec": {
   "display_name": "infrahack",
   "language": "python",
   "name": "infrahack"
  },
  "language_info": {
   "codemirror_mode": {
    "name": "ipython",
    "version": 3
   },
   "file_extension": ".py",
   "mimetype": "text/x-python",
   "name": "python",
   "nbconvert_exporter": "python",
   "pygments_lexer": "ipython3",
   "version": "3.7.3"
  }
 },
 "nbformat": 4,
 "nbformat_minor": 2
}
