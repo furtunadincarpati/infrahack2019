{
 "cells": [
  {
   "cell_type": "code",
   "execution_count": 4,
   "metadata": {},
   "outputs": [],
   "source": [
    "from lib.db import MongoClient\n",
    "from lib.helper import get_faults\n",
    "import pickle\n",
    "c = MongoClient(\"mongodb://localhost:27017\")\n",
    "\n",
    "mode = \"online\""
   ]
  },
  {
   "cell_type": "code",
   "execution_count": 5,
   "metadata": {},
   "outputs": [
    {
     "name": "stdout",
     "output_type": "stream",
     "text": [
      "{'lift_id': '8162', 'currently_operational': False, 'events': [{'event_code': 'Lost Main Controller Supply', 'event_type': 'Event', 'event_condition': 'Not Operational', 'occurred_lift_position': '3', 'restored_lift_position': None, 'start': 1556578704.0, 'end': None}, {'event_code': 'Not Operational', 'event_type': 'Out of Service', 'event_condition': 'Not Operational', 'occurred_lift_position': '3', 'restored_lift_position': None, 'start': 1556578704.0, 'end': None}, {'event_code': 'Service Not Available.', 'event_type': 'Event', 'event_condition': 'Not in Service', 'occurred_lift_position': '3', 'restored_lift_position': None, 'start': 1556578698.0, 'end': None}]}\n",
      "{'lift_id': '8174', 'currently_operational': False, 'events': [{'event_code': 'Lost Main Controller Supply', 'event_type': 'Event', 'event_condition': 'Not Operational', 'occurred_lift_position': '1', 'restored_lift_position': None, 'start': 1551973202.0, 'end': None}, {'event_code': 'Destination floor fault', 'event_type': 'Event', 'event_condition': 'OK', 'occurred_lift_position': '1', 'restored_lift_position': None, 'start': 1550456550.0, 'end': None}, {'event_code': 'Service Not Available.', 'event_type': 'Event', 'event_condition': 'Not in Service', 'occurred_lift_position': '1', 'restored_lift_position': None, 'start': 1550456550.0, 'end': None}, {'event_code': 'Not Operational', 'event_type': 'Out of Service', 'event_condition': 'Not Operational', 'occurred_lift_position': '1', 'restored_lift_position': None, 'start': 1550456550.0, 'end': None}, {'event_code': 'Lift Failed to Move', 'event_type': 'Event', 'event_condition': 'OK', 'occurred_lift_position': '1', 'restored_lift_position': None, 'start': 1550456430.0, 'end': None}]}\n",
      "{'lift_id': '8177', 'currently_operational': False, 'events': [{'event_code': 'Lost Main Controller Supply', 'event_type': 'Event', 'event_condition': 'Not Operational', 'occurred_lift_position': '2', 'restored_lift_position': None, 'start': 1552091564.0, 'end': None}, {'event_code': 'Primary Safety Circuit Lost.', 'event_type': 'Event', 'event_condition': 'Not Operational', 'occurred_lift_position': '2', 'restored_lift_position': None, 'start': 1547261764.0, 'end': None}, {'event_code': 'Not Operational', 'event_type': 'Out of Service', 'event_condition': 'Not Operational', 'occurred_lift_position': '2', 'restored_lift_position': None, 'start': 1545393216.0, 'end': None}, {'event_code': 'Service Not Available.', 'event_type': 'Event', 'event_condition': 'Not in Service', 'occurred_lift_position': '2', 'restored_lift_position': None, 'start': 1545393212.0, 'end': None}]}\n",
      "{'lift_id': '8178', 'currently_operational': False, 'events': [{'event_code': 'Not receiving data from site.', 'event_type': 'Event', 'event_condition': 'Not Receiving', 'occurred_lift_position': '0', 'restored_lift_position': None, 'start': 1555217720.0, 'end': None}, {'event_code': 'Service Not Available.', 'event_type': 'Event', 'event_condition': 'Not in Service', 'occurred_lift_position': '1', 'restored_lift_position': None, 'start': 1554598494.0, 'end': None}, {'event_code': 'Not Operational', 'event_type': 'Out of Service', 'event_condition': 'Not Operational', 'occurred_lift_position': '1', 'restored_lift_position': None, 'start': 1554598494.0, 'end': None}, {'event_code': 'Lost Main Controller Supply', 'event_type': 'Event', 'event_condition': 'Not Operational', 'occurred_lift_position': '1', 'restored_lift_position': None, 'start': 1554598494.0, 'end': None}, {'event_code': 'Door Closing Fault Occurred', 'event_type': 'Event', 'event_condition': 'OK', 'occurred_lift_position': '1', 'restored_lift_position': None, 'start': 1554598374.0, 'end': None}]}\n",
      "{'lift_id': '8204', 'currently_operational': False, 'events': [{'event_code': 'EMU Battery Requires Replacing', 'event_type': 'Event', 'event_condition': 'Action Required', 'occurred_lift_position': '2', 'restored_lift_position': None, 'start': 1552214106.0, 'end': None}, {'event_code': 'Lost Main Controller Supply', 'event_type': 'Event', 'event_condition': 'Not Operational', 'occurred_lift_position': '2', 'restored_lift_position': None, 'start': 1552091018.0, 'end': None}, {'event_code': 'Primary Safety Circuit Lost.', 'event_type': 'Event', 'event_condition': 'Not Operational', 'occurred_lift_position': '2', 'restored_lift_position': None, 'start': 1549589658.0, 'end': None}, {'event_code': 'Not Operational', 'event_type': 'Out of Service', 'event_condition': 'Not Operational', 'occurred_lift_position': '2', 'restored_lift_position': None, 'start': 1549589658.0, 'end': None}, {'event_code': 'Service Not Available.', 'event_type': 'Event', 'event_condition': 'Not in Service', 'occurred_lift_position': '1', 'restored_lift_position': None, 'start': 1547238790.0, 'end': None}]}\n",
      "{'lift_id': '8540', 'currently_operational': False, 'events': [{'event_code': 'Lost Main Controller Supply', 'event_type': 'Event', 'event_condition': 'Not Operational', 'occurred_lift_position': '3', 'restored_lift_position': None, 'start': 1553727066.0, 'end': None}, {'event_code': 'Primary Safety Circuit Lost.', 'event_type': 'Event', 'event_condition': 'Not Operational', 'occurred_lift_position': '3', 'restored_lift_position': None, 'start': 1553726826.0, 'end': None}, {'event_code': 'Not Operational', 'event_type': 'Out of Service', 'event_condition': 'Not Operational', 'occurred_lift_position': '1', 'restored_lift_position': None, 'start': 1547167470.0, 'end': None}, {'event_code': 'Service Not Available.', 'event_type': 'Event', 'event_condition': 'Not in Service', 'occurred_lift_position': '1', 'restored_lift_position': None, 'start': 1547167024.0, 'end': None}]}\n"
     ]
    }
   ],
   "source": [
    "faults = get_faults()"
   ]
  },
  {
   "cell_type": "code",
   "execution_count": null,
   "metadata": {},
   "outputs": [],
   "source": []
  },
  {
   "cell_type": "code",
   "execution_count": null,
   "metadata": {},
   "outputs": [],
   "source": [
    "[c.get_station(x) for x in faults]"
   ]
  },
  {
   "cell_type": "code",
   "execution_count": null,
   "metadata": {},
   "outputs": [],
   "source": []
  },
  {
   "cell_type": "code",
   "execution_count": null,
   "metadata": {},
   "outputs": [],
   "source": []
  },
  {
   "cell_type": "code",
   "execution_count": null,
   "metadata": {},
   "outputs": [],
   "source": []
  }
 ],
 "metadata": {
  "kernelspec": {
   "display_name": "infrahack",
   "language": "python",
   "name": "infrahack"
  },
  "language_info": {
   "codemirror_mode": {
    "name": "ipython",
    "version": 3
   },
   "file_extension": ".py",
   "mimetype": "text/x-python",
   "name": "python",
   "nbconvert_exporter": "python",
   "pygments_lexer": "ipython3",
   "version": "3.7.3"
  }
 },
 "nbformat": 4,
 "nbformat_minor": 2
}
